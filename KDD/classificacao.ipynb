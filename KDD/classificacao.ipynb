{
 "cells": [
  {
   "cell_type": "code",
   "execution_count": 1,
   "metadata": {},
   "outputs": [
    {
     "data": {
      "text/html": [
       "<div>\n",
       "<style scoped>\n",
       "    .dataframe tbody tr th:only-of-type {\n",
       "        vertical-align: middle;\n",
       "    }\n",
       "\n",
       "    .dataframe tbody tr th {\n",
       "        vertical-align: top;\n",
       "    }\n",
       "\n",
       "    .dataframe thead th {\n",
       "        text-align: right;\n",
       "    }\n",
       "</style>\n",
       "<table border=\"1\" class=\"dataframe\">\n",
       "  <thead>\n",
       "    <tr style=\"text-align: right;\">\n",
       "      <th></th>\n",
       "      <th>Diabetes_012</th>\n",
       "      <th>HighBP</th>\n",
       "      <th>HighChol</th>\n",
       "      <th>CholCheck</th>\n",
       "      <th>BMI</th>\n",
       "      <th>Smoker</th>\n",
       "      <th>Stroke</th>\n",
       "      <th>HeartDiseaseorAttack</th>\n",
       "      <th>PhysActivity</th>\n",
       "      <th>Fruits</th>\n",
       "      <th>...</th>\n",
       "      <th>AnyHealthcare</th>\n",
       "      <th>NoDocbcCost</th>\n",
       "      <th>GenHlth</th>\n",
       "      <th>MentHlth</th>\n",
       "      <th>PhysHlth</th>\n",
       "      <th>DiffWalk</th>\n",
       "      <th>Sex</th>\n",
       "      <th>Age</th>\n",
       "      <th>Education</th>\n",
       "      <th>Income</th>\n",
       "    </tr>\n",
       "  </thead>\n",
       "  <tbody>\n",
       "    <tr>\n",
       "      <th>0</th>\n",
       "      <td>0.0</td>\n",
       "      <td>0.0</td>\n",
       "      <td>0.0</td>\n",
       "      <td>0.0</td>\n",
       "      <td>25.0</td>\n",
       "      <td>1.0</td>\n",
       "      <td>0.0</td>\n",
       "      <td>0.0</td>\n",
       "      <td>1.0</td>\n",
       "      <td>0.0</td>\n",
       "      <td>...</td>\n",
       "      <td>0.0</td>\n",
       "      <td>1.0</td>\n",
       "      <td>3.0</td>\n",
       "      <td>0.0</td>\n",
       "      <td>0.0</td>\n",
       "      <td>0.0</td>\n",
       "      <td>0.0</td>\n",
       "      <td>7.0</td>\n",
       "      <td>6.0</td>\n",
       "      <td>1.0</td>\n",
       "    </tr>\n",
       "    <tr>\n",
       "      <th>1</th>\n",
       "      <td>0.0</td>\n",
       "      <td>1.0</td>\n",
       "      <td>1.0</td>\n",
       "      <td>1.0</td>\n",
       "      <td>28.0</td>\n",
       "      <td>0.0</td>\n",
       "      <td>0.0</td>\n",
       "      <td>0.0</td>\n",
       "      <td>0.0</td>\n",
       "      <td>1.0</td>\n",
       "      <td>...</td>\n",
       "      <td>1.0</td>\n",
       "      <td>1.0</td>\n",
       "      <td>5.0</td>\n",
       "      <td>30.0</td>\n",
       "      <td>30.0</td>\n",
       "      <td>1.0</td>\n",
       "      <td>0.0</td>\n",
       "      <td>9.0</td>\n",
       "      <td>4.0</td>\n",
       "      <td>8.0</td>\n",
       "    </tr>\n",
       "    <tr>\n",
       "      <th>2</th>\n",
       "      <td>0.0</td>\n",
       "      <td>1.0</td>\n",
       "      <td>0.0</td>\n",
       "      <td>1.0</td>\n",
       "      <td>27.0</td>\n",
       "      <td>0.0</td>\n",
       "      <td>0.0</td>\n",
       "      <td>0.0</td>\n",
       "      <td>1.0</td>\n",
       "      <td>1.0</td>\n",
       "      <td>...</td>\n",
       "      <td>1.0</td>\n",
       "      <td>0.0</td>\n",
       "      <td>2.0</td>\n",
       "      <td>0.0</td>\n",
       "      <td>0.0</td>\n",
       "      <td>0.0</td>\n",
       "      <td>0.0</td>\n",
       "      <td>11.0</td>\n",
       "      <td>3.0</td>\n",
       "      <td>6.0</td>\n",
       "    </tr>\n",
       "    <tr>\n",
       "      <th>3</th>\n",
       "      <td>0.0</td>\n",
       "      <td>1.0</td>\n",
       "      <td>1.0</td>\n",
       "      <td>1.0</td>\n",
       "      <td>24.0</td>\n",
       "      <td>0.0</td>\n",
       "      <td>0.0</td>\n",
       "      <td>0.0</td>\n",
       "      <td>1.0</td>\n",
       "      <td>1.0</td>\n",
       "      <td>...</td>\n",
       "      <td>1.0</td>\n",
       "      <td>0.0</td>\n",
       "      <td>2.0</td>\n",
       "      <td>3.0</td>\n",
       "      <td>0.0</td>\n",
       "      <td>0.0</td>\n",
       "      <td>0.0</td>\n",
       "      <td>11.0</td>\n",
       "      <td>5.0</td>\n",
       "      <td>4.0</td>\n",
       "    </tr>\n",
       "    <tr>\n",
       "      <th>4</th>\n",
       "      <td>0.0</td>\n",
       "      <td>1.0</td>\n",
       "      <td>1.0</td>\n",
       "      <td>1.0</td>\n",
       "      <td>25.0</td>\n",
       "      <td>1.0</td>\n",
       "      <td>0.0</td>\n",
       "      <td>0.0</td>\n",
       "      <td>1.0</td>\n",
       "      <td>1.0</td>\n",
       "      <td>...</td>\n",
       "      <td>1.0</td>\n",
       "      <td>0.0</td>\n",
       "      <td>2.0</td>\n",
       "      <td>0.0</td>\n",
       "      <td>2.0</td>\n",
       "      <td>0.0</td>\n",
       "      <td>1.0</td>\n",
       "      <td>10.0</td>\n",
       "      <td>6.0</td>\n",
       "      <td>8.0</td>\n",
       "    </tr>\n",
       "  </tbody>\n",
       "</table>\n",
       "<p>5 rows × 22 columns</p>\n",
       "</div>"
      ],
      "text/plain": [
       "   Diabetes_012  HighBP  HighChol  CholCheck   BMI  Smoker  Stroke  \\\n",
       "0           0.0     0.0       0.0        0.0  25.0     1.0     0.0   \n",
       "1           0.0     1.0       1.0        1.0  28.0     0.0     0.0   \n",
       "2           0.0     1.0       0.0        1.0  27.0     0.0     0.0   \n",
       "3           0.0     1.0       1.0        1.0  24.0     0.0     0.0   \n",
       "4           0.0     1.0       1.0        1.0  25.0     1.0     0.0   \n",
       "\n",
       "   HeartDiseaseorAttack  PhysActivity  Fruits  ...  AnyHealthcare  \\\n",
       "0                   0.0           1.0     0.0  ...            0.0   \n",
       "1                   0.0           0.0     1.0  ...            1.0   \n",
       "2                   0.0           1.0     1.0  ...            1.0   \n",
       "3                   0.0           1.0     1.0  ...            1.0   \n",
       "4                   0.0           1.0     1.0  ...            1.0   \n",
       "\n",
       "   NoDocbcCost  GenHlth  MentHlth  PhysHlth  DiffWalk  Sex   Age  Education  \\\n",
       "0          1.0      3.0       0.0       0.0       0.0  0.0   7.0        6.0   \n",
       "1          1.0      5.0      30.0      30.0       1.0  0.0   9.0        4.0   \n",
       "2          0.0      2.0       0.0       0.0       0.0  0.0  11.0        3.0   \n",
       "3          0.0      2.0       3.0       0.0       0.0  0.0  11.0        5.0   \n",
       "4          0.0      2.0       0.0       2.0       0.0  1.0  10.0        6.0   \n",
       "\n",
       "   Income  \n",
       "0     1.0  \n",
       "1     8.0  \n",
       "2     6.0  \n",
       "3     4.0  \n",
       "4     8.0  \n",
       "\n",
       "[5 rows x 22 columns]"
      ]
     },
     "execution_count": 1,
     "metadata": {},
     "output_type": "execute_result"
    }
   ],
   "source": [
    "import pandas as pd\n",
    "from sklearn.tree import DecisionTreeClassifier\n",
    "import matplotlib.pyplot as plt\n",
    "from sklearn.model_selection import train_test_split\n",
    "from sklearn.neighbors import KNeighborsClassifier\n",
    "from sklearn.metrics import accuracy_score, classification_report\n",
    "base = pd.read_csv('/Users/alanalins/pisi3/Diabetes-PISI3/KDD/dfCleaned.csv') #alterar\n",
    "base.head()"
   ]
  },
  {
   "cell_type": "code",
   "execution_count": 2,
   "metadata": {},
   "outputs": [
    {
     "data": {
      "text/plain": [
       "Index(['Diabetes_012', 'HighBP', 'HighChol', 'CholCheck', 'BMI', 'Smoker',\n",
       "       'Stroke', 'HeartDiseaseorAttack', 'PhysActivity', 'Fruits', 'Veggies',\n",
       "       'HvyAlcoholConsump', 'AnyHealthcare', 'NoDocbcCost', 'GenHlth',\n",
       "       'MentHlth', 'PhysHlth', 'DiffWalk', 'Sex', 'Age', 'Education',\n",
       "       'Income'],\n",
       "      dtype='object')"
      ]
     },
     "execution_count": 2,
     "metadata": {},
     "output_type": "execute_result"
    }
   ],
   "source": [
    "base.columns"
   ]
  },
  {
   "cell_type": "code",
   "execution_count": 3,
   "metadata": {},
   "outputs": [],
   "source": [
    "#dropando colunas nao normalizadas\n",
    "# base = base.drop(columns=['GenHlth', 'Age', 'MentHlth',\n",
    "                     # 'PhysHlth', 'Income', 'Education',\n",
    "                     # 'BMI', 'Diabetes_012'])\n",
    "# base.columns"
   ]
  },
  {
   "cell_type": "code",
   "execution_count": 4,
   "metadata": {},
   "outputs": [],
   "source": [
    "#Separando em X e Y \n",
    "X = base.drop('DiffWalk',axis=1)\n",
    "y = base.DiffWalk"
   ]
  },
  {
   "cell_type": "code",
   "execution_count": 5,
   "metadata": {},
   "outputs": [
    {
     "data": {
      "image/png": "[encoded data removed]",
      "text/plain": [
       "<Figure size 640x480 with 1 Axes>"
      ]
     },
     "metadata": {},
     "output_type": "display_data"
    }
   ],
   "source": [
    "\n",
    "\n",
    "# Supondo que y seja uma série pandas com os valores 0.0 e 1.0\n",
    "# Exemplo: y = pd.Series([0.0, 1.0, 0.0, 1.0, 1.0, 0.0])\n",
    "\n",
    "# Substituir valores numéricos por labels\n",
    "labels = {0.0: \"Sem dificuldade\", 1.0: \"Com dificuldade\"}\n",
    "y_labels = y.replace(labels)\n",
    "\n",
    "# Contar a frequência dos valores\n",
    "value_counts = y_labels.value_counts()\n",
    "\n",
    "# Plotar gráfico de barras\n",
    "value_counts.plot(kind='bar', color=['blue', 'orange'])\n",
    "\n",
    "# Adicionar título e labels\n",
    "plt.title('Distribuição de Dificuldades')\n",
    "plt.xlabel('Categoria')\n",
    "plt.ylabel('Contagem')\n",
    "\n",
    "# Mostrar gráfico\n",
    "plt.show()\n",
    "\n",
    "#trocar grafico e semantica\n",
    "#add labels"
   ]
  },
  {
   "cell_type": "code",
   "execution_count": 6,
   "metadata": {},
   "outputs": [
    {
     "data": {
      "text/plain": [
       "DiffWalk\n",
       "Sem dificuldade    200707\n",
       "Com dificuldade     35777\n",
       "Name: count, dtype: int64"
      ]
     },
     "execution_count": 6,
     "metadata": {},
     "output_type": "execute_result"
    }
   ],
   "source": [
    "y_labels.value_counts()"
   ]
  },
  {
   "cell_type": "markdown",
   "metadata": {},
   "source": [
    "### Dividindo entre treino e teste"
   ]
  },
  {
   "cell_type": "code",
   "execution_count": 7,
   "metadata": {},
   "outputs": [
    {
     "data": {
      "text/plain": [
       "DiffWalk\n",
       "0.0    84.870995\n",
       "1.0    15.129005\n",
       "Name: count, dtype: float64"
      ]
     },
     "execution_count": 7,
     "metadata": {},
     "output_type": "execute_result"
    }
   ],
   "source": [
    "# Importando o train_test_split\n",
    "from sklearn.model_selection import train_test_split\n",
    "# Fazendo a separação em treino e teste\n",
    "X_train, X_test, y_train, y_test = train_test_split(X, y, test_size=0.33, \n",
    "                                                    random_state=42,stratify=y)\n",
    "# Verificando a proporção na base de treino\n",
    "(y_train.value_counts()/y_train.shape[0])*100"
   ]
  },
  {
   "cell_type": "code",
   "execution_count": 8,
   "metadata": {},
   "outputs": [
    {
     "name": "stdout",
     "output_type": "stream",
     "text": [
      "Acurácia: 0.86\n",
      "Relatório de Classificação:\n",
      "              precision    recall  f1-score   support\n",
      "\n",
      "         0.0       0.90      0.94      0.92     66234\n",
      "         1.0       0.57      0.41      0.48     11806\n",
      "\n",
      "    accuracy                           0.86     78040\n",
      "   macro avg       0.73      0.68      0.70     78040\n",
      "weighted avg       0.85      0.86      0.85     78040\n",
      "\n"
     ]
    }
   ],
   "source": [
    "# Treino\n",
    "knn = KNeighborsClassifier(n_neighbors=3)\n",
    "\n",
    "# Treinando o modelo\n",
    "knn.fit(X_train, y_train)\n",
    "\n",
    "# Fazendo previsões nos dados de teste\n",
    "y_pred = knn.predict(X_test)\n",
    "\n",
    "# Avaliando o desempenho do modelo nos dados de teste\n",
    "accuracy = accuracy_score(y_test, y_pred)\n",
    "report = classification_report(y_test, y_pred)\n",
    "\n",
    "print(f\"Acurácia: {accuracy:.2f}\")\n",
    "print(\"Relatório de Classificação:\")\n",
    "print(report)"
   ]
  },
  {
   "cell_type": "code",
   "execution_count": 9,
   "metadata": {},
   "outputs": [
    {
     "name": "stdout",
     "output_type": "stream",
     "text": [
      "Acurácia (Naive Bayes): 0.83\n",
      "              precision    recall  f1-score   support\n",
      "\n",
      "         0.0       0.94      0.86      0.90     66234\n",
      "         1.0       0.46      0.67      0.55     11806\n",
      "\n",
      "    accuracy                           0.83     78040\n",
      "   macro avg       0.70      0.76      0.72     78040\n",
      "weighted avg       0.86      0.83      0.84     78040\n",
      "\n"
     ]
    }
   ],
   "source": [
    "from sklearn.naive_bayes import GaussianNB\n",
    "from sklearn.metrics import accuracy_score, classification_report\n",
    "\n",
    "# Testando um modelo Naive Bayes\n",
    "nb = GaussianNB()\n",
    "nb.fit(X_test, y_test)\n",
    "y_pred_nb = nb.predict(X_test)\n",
    "\n",
    "# Avaliando o desempenho\n",
    "accuracy_nb = accuracy_score(y_test, y_pred_nb)\n",
    "report_nb = classification_report(y_test, y_pred_nb)\n",
    "\n",
    "print(f\"Acurácia (Naive Bayes): {accuracy_nb:.2f}\")\n",
    "print(report_nb)\n"
   ]
  },
  {
   "cell_type": "markdown",
   "metadata": {},
   "source": [
    "A acurácia em datasets desbalanceados, em geral, é muito alta"
   ]
  },
  {
   "cell_type": "markdown",
   "metadata": {},
   "source": [
    "Random Forest"
   ]
  },
  {
   "cell_type": "code",
   "execution_count": 10,
   "metadata": {},
   "outputs": [
    {
     "name": "stdout",
     "output_type": "stream",
     "text": [
      "Acurácia (Random Forest): 0.88\n",
      "              precision    recall  f1-score   support\n",
      "\n",
      "         0.0       0.91      0.96      0.93     66234\n",
      "         1.0       0.66      0.44      0.53     11806\n",
      "\n",
      "    accuracy                           0.88     78040\n",
      "   macro avg       0.78      0.70      0.73     78040\n",
      "weighted avg       0.87      0.88      0.87     78040\n",
      "\n"
     ]
    }
   ],
   "source": [
    "from sklearn.ensemble import RandomForestClassifier\n",
    "\n",
    "# Testando um modelo Random Forest\n",
    "rf = RandomForestClassifier(random_state=42)\n",
    "rf.fit(X_train, y_train)\n",
    "y_pred_rf = rf.predict(X_test)\n",
    "\n",
    "# Avaliando o desempenho\n",
    "accuracy_rf = accuracy_score(y_test, y_pred_rf)\n",
    "report_rf = classification_report(y_test, y_pred_rf)\n",
    "\n",
    "print(f\"Acurácia (Random Forest): {accuracy_rf:.2f}\")\n",
    "print(report_rf)\n"
   ]
  },
  {
   "cell_type": "markdown",
   "metadata": {},
   "source": [
    "# Balanceado"
   ]
  },
  {
   "cell_type": "code",
   "execution_count": 11,
   "metadata": {},
   "outputs": [
    {
     "data": {
      "image/png": "[encoded data removed]",
      "text/plain": [
       "<Figure size 640x480 with 1 Axes>"
      ]
     },
     "metadata": {},
     "output_type": "display_data"
    }
   ],
   "source": [
    "from imblearn.under_sampling import RandomUnderSampler\n",
    "# Definindo o RandomUnderSampler\n",
    "rus = RandomUnderSampler(random_state=42)\n",
    "# Aplicando para X e y\n",
    "X_res, y_res = rus.fit_resample(X_train, y_train)\n",
    "# Visualizando graficamente\n",
    "y_res.value_counts().plot.pie(autopct='%.2f');"
   ]
  },
  {
   "cell_type": "code",
   "execution_count": 12,
   "metadata": {},
   "outputs": [
    {
     "data": {
      "text/plain": [
       "DiffWalk\n",
       "0.0    23971\n",
       "1.0    23971\n",
       "Name: count, dtype: int64"
      ]
     },
     "execution_count": 12,
     "metadata": {},
     "output_type": "execute_result"
    }
   ],
   "source": [
    "y_res.value_counts()"
   ]
  },
  {
   "cell_type": "code",
   "execution_count": 13,
   "metadata": {},
   "outputs": [
    {
     "name": "stdout",
     "output_type": "stream",
     "text": [
      "Acurácia knn balanceado: 0.82\n",
      "Relatório de Classificação balanceado:\n",
      "              precision    recall  f1-score   support\n",
      "\n",
      "         0.0       0.94      0.84      0.89     66234\n",
      "         1.0       0.43      0.69      0.53     11806\n",
      "\n",
      "    accuracy                           0.82     78040\n",
      "   macro avg       0.69      0.76      0.71     78040\n",
      "weighted avg       0.86      0.82      0.83     78040\n",
      "\n"
     ]
    }
   ],
   "source": [
    "# Criando o modelo KNN\n",
    "knn_balanced = KNeighborsClassifier(n_neighbors=3)\n",
    "\n",
    "# Treinando o modelo\n",
    "knn_balanced.fit(X_res, y_res)\n",
    "\n",
    "# Fazendo previsões nos dados de teste\n",
    "y_pred2 = knn_balanced.predict(X_test)\n",
    "\n",
    "# Avaliando o desempenho do modelo\n",
    "accuracy = accuracy_score(y_test, y_pred2)\n",
    "report = classification_report(y_test, y_pred2)\n",
    "\n",
    "print(f\"Acurácia knn balanceado: {accuracy:.2f}\")\n",
    "print(\"Relatório de Classificação balanceado:\")\n",
    "print(report)"
   ]
  },
  {
   "cell_type": "code",
   "execution_count": 14,
   "metadata": {},
   "outputs": [
    {
     "name": "stdout",
     "output_type": "stream",
     "text": [
      "Acurácia (Random Forest): 0.80\n",
      "              precision    recall  f1-score   support\n",
      "\n",
      "         0.0       0.96      0.80      0.87     66234\n",
      "         1.0       0.42      0.81      0.55     11806\n",
      "\n",
      "    accuracy                           0.80     78040\n",
      "   macro avg       0.69      0.80      0.71     78040\n",
      "weighted avg       0.88      0.80      0.82     78040\n",
      "\n"
     ]
    }
   ],
   "source": [
    "from sklearn.ensemble import RandomForestClassifier\n",
    "\n",
    "# Testando um modelo Random Forest\n",
    "rf = RandomForestClassifier(random_state=42)\n",
    "rf.fit(X_res, y_res)\n",
    "y_pred_rf = rf.predict(X_test)\n",
    "\n",
    "# Avaliando o desempenho\n",
    "accuracy_rf = accuracy_score(y_test, y_pred_rf)\n",
    "report_rf = classification_report(y_test, y_pred_rf)\n",
    "\n",
    "print(f\"Acurácia (Random Forest): {accuracy_rf:.2f}\")\n",
    "print(report_rf)\n"
   ]
  },
  {
   "cell_type": "code",
   "execution_count": 15,
   "metadata": {},
   "outputs": [
    {
     "name": "stdout",
     "output_type": "stream",
     "text": [
      "Acurácia (Naive Bayes): 0.80\n",
      "              precision    recall  f1-score   support\n",
      "\n",
      "         0.0       0.95      0.82      0.88     66234\n",
      "         1.0       0.42      0.73      0.53     11806\n",
      "\n",
      "    accuracy                           0.80     78040\n",
      "   macro avg       0.68      0.78      0.70     78040\n",
      "weighted avg       0.87      0.80      0.82     78040\n",
      "\n"
     ]
    }
   ],
   "source": [
    "# Testando um modelo Naive Bayes\n",
    "nb_balanced = GaussianNB()\n",
    "nb_balanced.fit(X_res, y_res)\n",
    "y_pred_nb_balanced = nb_balanced.predict(X_test)\n",
    "\n",
    "# Avaliando o desempenho\n",
    "accuracy_nb_balanced = accuracy_score(y_test, y_pred_nb_balanced)\n",
    "report_nby_pred_nb_balanced = classification_report(y_test, y_pred_nb_balanced)\n",
    "\n",
    "print(f\"Acurácia (Naive Bayes): {accuracy_nb_balanced:.2f}\")\n",
    "print(report_nby_pred_nb_balanced)"
   ]
  }
 ],
 "metadata": {
  "kernelspec": {
   "display_name": ".venv",
   "language": "python",
   "name": "python3"
  },
  "language_info": {
   "codemirror_mode": {
    "name": "ipython",
    "version": 3
   },
   "file_extension": ".py",
   "mimetype": "text/x-python",
   "name": "python",
   "nbconvert_exporter": "python",
   "pygments_lexer": "ipython3",
   "version": "3.11.4"
  }
 },
 "nbformat": 4,
 "nbformat_minor": 2
}
