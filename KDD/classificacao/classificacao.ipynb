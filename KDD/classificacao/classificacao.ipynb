{
 "cells": [
  {
   "cell_type": "code",
   "execution_count": 1,
   "metadata": {},
   "outputs": [
    {
     "data": {
      "text/html": [
       "<div>\n",
       "<style scoped>\n",
       "    .dataframe tbody tr th:only-of-type {\n",
       "        vertical-align: middle;\n",
       "    }\n",
       "\n",
       "    .dataframe tbody tr th {\n",
       "        vertical-align: top;\n",
       "    }\n",
       "\n",
       "    .dataframe thead th {\n",
       "        text-align: right;\n",
       "    }\n",
       "</style>\n",
       "<table border=\"1\" class=\"dataframe\">\n",
       "  <thead>\n",
       "    <tr style=\"text-align: right;\">\n",
       "      <th></th>\n",
       "      <th>Diabetes_012</th>\n",
       "      <th>HighBP</th>\n",
       "      <th>HighChol</th>\n",
       "      <th>CholCheck</th>\n",
       "      <th>BMI</th>\n",
       "      <th>Smoker</th>\n",
       "      <th>Stroke</th>\n",
       "      <th>HeartDiseaseorAttack</th>\n",
       "      <th>PhysActivity</th>\n",
       "      <th>Fruits</th>\n",
       "      <th>...</th>\n",
       "      <th>AnyHealthcare</th>\n",
       "      <th>NoDocbcCost</th>\n",
       "      <th>GenHlth</th>\n",
       "      <th>MentHlth</th>\n",
       "      <th>PhysHlth</th>\n",
       "      <th>DiffWalk</th>\n",
       "      <th>Sex</th>\n",
       "      <th>Age</th>\n",
       "      <th>Education</th>\n",
       "      <th>Income</th>\n",
       "    </tr>\n",
       "  </thead>\n",
       "  <tbody>\n",
       "    <tr>\n",
       "      <th>0</th>\n",
       "      <td>0.0</td>\n",
       "      <td>0.0</td>\n",
       "      <td>0.0</td>\n",
       "      <td>0.0</td>\n",
       "      <td>25.0</td>\n",
       "      <td>1.0</td>\n",
       "      <td>0.0</td>\n",
       "      <td>0.0</td>\n",
       "      <td>1.0</td>\n",
       "      <td>0.0</td>\n",
       "      <td>...</td>\n",
       "      <td>0.0</td>\n",
       "      <td>1.0</td>\n",
       "      <td>3.0</td>\n",
       "      <td>0.0</td>\n",
       "      <td>0.0</td>\n",
       "      <td>0.0</td>\n",
       "      <td>0.0</td>\n",
       "      <td>7.0</td>\n",
       "      <td>6.0</td>\n",
       "      <td>1.0</td>\n",
       "    </tr>\n",
       "    <tr>\n",
       "      <th>1</th>\n",
       "      <td>0.0</td>\n",
       "      <td>1.0</td>\n",
       "      <td>1.0</td>\n",
       "      <td>1.0</td>\n",
       "      <td>28.0</td>\n",
       "      <td>0.0</td>\n",
       "      <td>0.0</td>\n",
       "      <td>0.0</td>\n",
       "      <td>0.0</td>\n",
       "      <td>1.0</td>\n",
       "      <td>...</td>\n",
       "      <td>1.0</td>\n",
       "      <td>1.0</td>\n",
       "      <td>5.0</td>\n",
       "      <td>30.0</td>\n",
       "      <td>30.0</td>\n",
       "      <td>1.0</td>\n",
       "      <td>0.0</td>\n",
       "      <td>9.0</td>\n",
       "      <td>4.0</td>\n",
       "      <td>8.0</td>\n",
       "    </tr>\n",
       "    <tr>\n",
       "      <th>2</th>\n",
       "      <td>0.0</td>\n",
       "      <td>1.0</td>\n",
       "      <td>0.0</td>\n",
       "      <td>1.0</td>\n",
       "      <td>27.0</td>\n",
       "      <td>0.0</td>\n",
       "      <td>0.0</td>\n",
       "      <td>0.0</td>\n",
       "      <td>1.0</td>\n",
       "      <td>1.0</td>\n",
       "      <td>...</td>\n",
       "      <td>1.0</td>\n",
       "      <td>0.0</td>\n",
       "      <td>2.0</td>\n",
       "      <td>0.0</td>\n",
       "      <td>0.0</td>\n",
       "      <td>0.0</td>\n",
       "      <td>0.0</td>\n",
       "      <td>11.0</td>\n",
       "      <td>3.0</td>\n",
       "      <td>6.0</td>\n",
       "    </tr>\n",
       "    <tr>\n",
       "      <th>3</th>\n",
       "      <td>0.0</td>\n",
       "      <td>1.0</td>\n",
       "      <td>1.0</td>\n",
       "      <td>1.0</td>\n",
       "      <td>24.0</td>\n",
       "      <td>0.0</td>\n",
       "      <td>0.0</td>\n",
       "      <td>0.0</td>\n",
       "      <td>1.0</td>\n",
       "      <td>1.0</td>\n",
       "      <td>...</td>\n",
       "      <td>1.0</td>\n",
       "      <td>0.0</td>\n",
       "      <td>2.0</td>\n",
       "      <td>3.0</td>\n",
       "      <td>0.0</td>\n",
       "      <td>0.0</td>\n",
       "      <td>0.0</td>\n",
       "      <td>11.0</td>\n",
       "      <td>5.0</td>\n",
       "      <td>4.0</td>\n",
       "    </tr>\n",
       "    <tr>\n",
       "      <th>4</th>\n",
       "      <td>0.0</td>\n",
       "      <td>1.0</td>\n",
       "      <td>1.0</td>\n",
       "      <td>1.0</td>\n",
       "      <td>25.0</td>\n",
       "      <td>1.0</td>\n",
       "      <td>0.0</td>\n",
       "      <td>0.0</td>\n",
       "      <td>1.0</td>\n",
       "      <td>1.0</td>\n",
       "      <td>...</td>\n",
       "      <td>1.0</td>\n",
       "      <td>0.0</td>\n",
       "      <td>2.0</td>\n",
       "      <td>0.0</td>\n",
       "      <td>2.0</td>\n",
       "      <td>0.0</td>\n",
       "      <td>1.0</td>\n",
       "      <td>10.0</td>\n",
       "      <td>6.0</td>\n",
       "      <td>8.0</td>\n",
       "    </tr>\n",
       "  </tbody>\n",
       "</table>\n",
       "<p>5 rows × 22 columns</p>\n",
       "</div>"
      ],
      "text/plain": [
       "   Diabetes_012  HighBP  HighChol  CholCheck   BMI  Smoker  Stroke  \\\n",
       "0           0.0     0.0       0.0        0.0  25.0     1.0     0.0   \n",
       "1           0.0     1.0       1.0        1.0  28.0     0.0     0.0   \n",
       "2           0.0     1.0       0.0        1.0  27.0     0.0     0.0   \n",
       "3           0.0     1.0       1.0        1.0  24.0     0.0     0.0   \n",
       "4           0.0     1.0       1.0        1.0  25.0     1.0     0.0   \n",
       "\n",
       "   HeartDiseaseorAttack  PhysActivity  Fruits  ...  AnyHealthcare  \\\n",
       "0                   0.0           1.0     0.0  ...            0.0   \n",
       "1                   0.0           0.0     1.0  ...            1.0   \n",
       "2                   0.0           1.0     1.0  ...            1.0   \n",
       "3                   0.0           1.0     1.0  ...            1.0   \n",
       "4                   0.0           1.0     1.0  ...            1.0   \n",
       "\n",
       "   NoDocbcCost  GenHlth  MentHlth  PhysHlth  DiffWalk  Sex   Age  Education  \\\n",
       "0          1.0      3.0       0.0       0.0       0.0  0.0   7.0        6.0   \n",
       "1          1.0      5.0      30.0      30.0       1.0  0.0   9.0        4.0   \n",
       "2          0.0      2.0       0.0       0.0       0.0  0.0  11.0        3.0   \n",
       "3          0.0      2.0       3.0       0.0       0.0  0.0  11.0        5.0   \n",
       "4          0.0      2.0       0.0       2.0       0.0  1.0  10.0        6.0   \n",
       "\n",
       "   Income  \n",
       "0     1.0  \n",
       "1     8.0  \n",
       "2     6.0  \n",
       "3     4.0  \n",
       "4     8.0  \n",
       "\n",
       "[5 rows x 22 columns]"
      ]
     },
     "execution_count": 1,
     "metadata": {},
     "output_type": "execute_result"
    }
   ],
   "source": [
    "# Importações de bibliotecas gerais\n",
    "import pandas as pd\n",
    "import matplotlib.pyplot as plt\n",
    "import seaborn as sns\n",
    "\n",
    "# Importações do scikit-learn para modelos, métricas e validação cruzada\n",
    "from sklearn.tree import DecisionTreeClassifier\n",
    "from sklearn.neighbors import KNeighborsClassifier\n",
    "from sklearn.naive_bayes import GaussianNB\n",
    "from sklearn.ensemble import RandomForestClassifier\n",
    "from sklearn.model_selection import train_test_split, cross_val_score, StratifiedKFold, GridSearchCV, cross_val_predict\n",
    "from sklearn.metrics import accuracy_score, classification_report, confusion_matrix, f1_score\n",
    "\n",
    "# Importações do LightGBM\n",
    "import lightgbm as lgb\n",
    "\n",
    "# Importação do imbalanced-learn para balanceamento de classes\n",
    "from imblearn.under_sampling import RandomUnderSampler\n",
    "\n",
    "base = pd.read_parquet('dfCleaned.parquet')\n",
    "base.head()"
   ]
  },
  {
   "cell_type": "code",
   "execution_count": 2,
   "metadata": {},
   "outputs": [
    {
     "data": {
      "text/plain": [
       "Index(['Diabetes_012', 'HighBP', 'HighChol', 'CholCheck', 'BMI', 'Smoker',\n",
       "       'Stroke', 'HeartDiseaseorAttack', 'PhysActivity', 'Fruits', 'Veggies',\n",
       "       'HvyAlcoholConsump', 'AnyHealthcare', 'NoDocbcCost', 'GenHlth',\n",
       "       'MentHlth', 'PhysHlth', 'DiffWalk', 'Sex', 'Age', 'Education',\n",
       "       'Income'],\n",
       "      dtype='object')"
      ]
     },
     "execution_count": 2,
     "metadata": {},
     "output_type": "execute_result"
    }
   ],
   "source": [
    "base.columns"
   ]
  },
  {
   "cell_type": "code",
   "execution_count": 3,
   "metadata": {},
   "outputs": [
    {
     "name": "stdout",
     "output_type": "stream",
     "text": [
      "DiffWalk                1.000000\n",
      "PhysHlth                0.467861\n",
      "GenHlth                 0.442264\n",
      "MentHlth                0.220960\n",
      "HeartDiseaseorAttack    0.211268\n",
      "HighBP                  0.209257\n",
      "Age                     0.208915\n",
      "Diabetes_012            0.199677\n",
      "Stroke                  0.178390\n",
      "HighChol                0.138773\n",
      "BMI                     0.135693\n",
      "Smoker                  0.123734\n",
      "NoDocbcCost             0.112179\n",
      "CholCheck               0.038229\n",
      "AnyHealthcare           0.007112\n",
      "HvyAlcoholConsump      -0.032321\n",
      "Fruits                 -0.042569\n",
      "Sex                    -0.058686\n",
      "Veggies                -0.076708\n",
      "Education              -0.186756\n",
      "PhysActivity           -0.238116\n",
      "Income                 -0.306169\n",
      "Name: DiffWalk, dtype: float64\n"
     ]
    }
   ],
   "source": [
    "import pandas as pd\n",
    "\n",
    "correlation_matrix = base.corr()\n",
    "\n",
    "# Filtrar apenas as correlações com o target\n",
    "target_correlation = correlation_matrix[\"DiffWalk\"].sort_values(ascending=False)\n",
    "\n",
    "print(target_correlation)\n"
   ]
  },
  {
   "cell_type": "code",
   "execution_count": 4,
   "metadata": {},
   "outputs": [
    {
     "data": {
      "text/plain": [
       "array([[0.],\n",
       "       [0.],\n",
       "       [0.],\n",
       "       ...,\n",
       "       [0.],\n",
       "       [0.],\n",
       "       [1.]])"
      ]
     },
     "execution_count": 4,
     "metadata": {},
     "output_type": "execute_result"
    }
   ],
   "source": [
    "from sklearn.preprocessing import MinMaxScaler\n",
    "\n",
    "def normalizar_coluna(df, nome_coluna):\n",
    "    # Inicializar o MinMaxScaler\n",
    "    scaler = MinMaxScaler()\n",
    "    \n",
    "    # Selecionar a coluna especificada\n",
    "    coluna = df[[nome_coluna]]\n",
    "    \n",
    "    # Normalizar a coluna\n",
    "    coluna_normalizada = scaler.fit_transform(coluna)\n",
    "    \n",
    "    # Retornar a coluna normalizada\n",
    "    return coluna_normalizada\n",
    "normalizar_coluna(base,'GenHlth')\n",
    "normalizar_coluna(base,'Age')\n",
    "normalizar_coluna(base,'MentHlth')\n",
    "normalizar_coluna(base,'PhysHlth')\n",
    "normalizar_coluna(base,'Income')\n",
    "normalizar_coluna(base,'Education')\n",
    "normalizar_coluna(base,'BMI')\n",
    "normalizar_coluna(base,'Diabetes_012')"
   ]
  },
  {
   "cell_type": "code",
   "execution_count": 5,
   "metadata": {},
   "outputs": [],
   "source": [
    "#dropando colunas com menor corrrelação e a target\n",
    "X = base.drop(columns=['AnyHealthcare', 'HvyAlcoholConsump', 'Fruits', 'Sex', 'Veggies', 'CholCheck', 'DiffWalk'])\n",
    "y = base.DiffWalk"
   ]
  },
  {
   "cell_type": "code",
   "execution_count": 6,
   "metadata": {},
   "outputs": [
    {
     "data": {
      "image/png": "[encoded data removed]",
      "text/plain": [
       "<Figure size 640x480 with 1 Axes>"
      ]
     },
     "metadata": {},
     "output_type": "display_data"
    }
   ],
   "source": [
    "\n",
    "\n",
    "# Supondo que y seja uma série pandas com os valores 0.0 e 1.0\n",
    "# Exemplo: y = pd.Series([0.0, 1.0, 0.0, 1.0, 1.0, 0.0])\n",
    "\n",
    "# Substituir valores numéricos por labels\n",
    "labels = {0.0: \"Sem dificuldade\", 1.0: \"Com dificuldade\"}\n",
    "y_labels = y.replace(labels)\n",
    "\n",
    "# Contar a frequência dos valores\n",
    "value_counts = y_labels.value_counts()\n",
    "\n",
    "# Plotar gráfico de barras\n",
    "value_counts.plot(kind='bar', color=['blue', 'orange'])\n",
    "\n",
    "# Adicionar título e labels\n",
    "plt.title('Distribuição de Dificuldades')\n",
    "plt.xlabel('Categoria')\n",
    "plt.ylabel('Contagem')\n",
    "\n",
    "# Mostrar gráfico\n",
    "plt.show()\n",
    "\n",
    "#trocar grafico e semantica\n",
    "#add labels"
   ]
  },
  {
   "cell_type": "code",
   "execution_count": 7,
   "metadata": {},
   "outputs": [
    {
     "data": {
      "text/plain": [
       "DiffWalk\n",
       "Sem dificuldade    200707\n",
       "Com dificuldade     35777\n",
       "Name: count, dtype: int64"
      ]
     },
     "execution_count": 7,
     "metadata": {},
     "output_type": "execute_result"
    }
   ],
   "source": [
    "y_labels.value_counts()"
   ]
  },
  {
   "cell_type": "markdown",
   "metadata": {},
   "source": [
    "### Dividindo entre treino e teste"
   ]
  },
  {
   "cell_type": "code",
   "execution_count": 8,
   "metadata": {},
   "outputs": [
    {
     "data": {
      "text/plain": [
       "DiffWalk\n",
       "0.0    84.841332\n",
       "1.0    15.158668\n",
       "Name: count, dtype: float64"
      ]
     },
     "execution_count": 8,
     "metadata": {},
     "output_type": "execute_result"
    }
   ],
   "source": [
    "# Importando o train_test_split\n",
    "from sklearn.model_selection import train_test_split\n",
    "# Fazendo a separação em treino e teste\n",
    "X_train, X_test, y_train, y_test = train_test_split(X, y, test_size=0.33, \n",
    "                                                    random_state=42)\n",
    "# Verificando a proporção na base de treino\n",
    "(y_train.value_counts()/y_train.shape[0])*100"
   ]
  },
  {
   "cell_type": "code",
   "execution_count": 9,
   "metadata": {},
   "outputs": [],
   "source": [
    "#renomeando para ficar mais entendível\n",
    "y_train = y_train.replace({0: 'Não tem dificuldade', 1: 'Tem dificuldade'})\n",
    "y_test = y_test.replace({0: 'Não tem dificuldade', 1: 'Tem dificuldade'})\n"
   ]
  },
  {
   "cell_type": "markdown",
   "metadata": {},
   "source": [
    "Knn desbalanceado\n"
   ]
  },
  {
   "cell_type": "code",
   "execution_count": 10,
   "metadata": {},
   "outputs": [
    {
     "name": "stdout",
     "output_type": "stream",
     "text": [
      "Acurácia: 0.86\n",
      "Relatório de Classificação:\n",
      "                     precision    recall  f1-score   support\n",
      "\n",
      "Não tem dificuldade       0.90      0.94      0.92     66281\n",
      "    Tem dificuldade       0.57      0.42      0.48     11759\n",
      "\n",
      "           accuracy                           0.86     78040\n",
      "          macro avg       0.73      0.68      0.70     78040\n",
      "       weighted avg       0.85      0.86      0.86     78040\n",
      "\n"
     ]
    }
   ],
   "source": [
    "# Treino\n",
    "knn = KNeighborsClassifier(n_neighbors=3)\n",
    "\n",
    "# Treinando o modelo\n",
    "knn.fit(X_train, y_train)\n",
    "\n",
    "# Fazendo previsões nos dados de teste\n",
    "y_pred = knn.predict(X_test)\n",
    "\n",
    "# Avaliando o desempenho do modelo nos dados de teste\n",
    "accuracy = accuracy_score(y_test, y_pred)\n",
    "report = classification_report(y_test, y_pred)\n",
    "\n",
    "print(f\"Acurácia: {accuracy:.2f}\")\n",
    "print(\"Relatório de Classificação:\")\n",
    "print(report)"
   ]
  },
  {
   "cell_type": "markdown",
   "metadata": {},
   "source": [
    "Naive Bayes desbalanceado"
   ]
  },
  {
   "cell_type": "code",
   "execution_count": 11,
   "metadata": {},
   "outputs": [
    {
     "name": "stdout",
     "output_type": "stream",
     "text": [
      "Acurácia (Naive Bayes): 0.83\n",
      "                     precision    recall  f1-score   support\n",
      "\n",
      "Não tem dificuldade       0.93      0.86      0.90     66281\n",
      "    Tem dificuldade       0.46      0.65      0.54     11759\n",
      "\n",
      "           accuracy                           0.83     78040\n",
      "          macro avg       0.70      0.76      0.72     78040\n",
      "       weighted avg       0.86      0.83      0.84     78040\n",
      "\n"
     ]
    }
   ],
   "source": [
    "\n",
    "\n",
    "# Testando um modelo Naive Bayes\n",
    "nb = GaussianNB()\n",
    "nb.fit(X_test, y_test)\n",
    "y_pred_nb = nb.predict(X_test)\n",
    "\n",
    "# Avaliando o desempenho\n",
    "accuracy_nb = accuracy_score(y_test, y_pred_nb)\n",
    "report_nb = classification_report(y_test, y_pred_nb)\n",
    "\n",
    "print(f\"Acurácia (Naive Bayes): {accuracy_nb:.2f}\")\n",
    "print(report_nb)\n"
   ]
  },
  {
   "cell_type": "markdown",
   "metadata": {},
   "source": [
    "Random Forest desbalanceado"
   ]
  },
  {
   "cell_type": "code",
   "execution_count": 12,
   "metadata": {},
   "outputs": [
    {
     "name": "stdout",
     "output_type": "stream",
     "text": [
      "Acurácia (Random Forest): 0.88\n",
      "                     precision    recall  f1-score   support\n",
      "\n",
      "Não tem dificuldade       0.91      0.96      0.93     66281\n",
      "    Tem dificuldade       0.63      0.44      0.52     11759\n",
      "\n",
      "           accuracy                           0.88     78040\n",
      "          macro avg       0.77      0.70      0.72     78040\n",
      "       weighted avg       0.86      0.88      0.87     78040\n",
      "\n"
     ]
    }
   ],
   "source": [
    "\n",
    "\n",
    "# Testando um modelo Random Forest\n",
    "rf = RandomForestClassifier(random_state=42, n_estimators=100)\n",
    "rf.fit(X_train, y_train)\n",
    "y_pred_rf = rf.predict(X_test)\n",
    "\n",
    "# Avaliando o desempenho\n",
    "accuracy_rf = accuracy_score(y_test, y_pred_rf)\n",
    "report_rf = classification_report(y_test, y_pred_rf)\n",
    "\n",
    "print(f\"Acurácia (Random Forest): {accuracy_rf:.2f}\")\n",
    "print(report_rf)\n"
   ]
  },
  {
   "cell_type": "markdown",
   "metadata": {},
   "source": [
    "# Balanceado"
   ]
  },
  {
   "cell_type": "code",
   "execution_count": 13,
   "metadata": {},
   "outputs": [
    {
     "data": {
      "image/png": "[encoded data removed]",
      "text/plain": [
       "<Figure size 640x480 with 1 Axes>"
      ]
     },
     "metadata": {},
     "output_type": "display_data"
    }
   ],
   "source": [
    "\n",
    "# Definindo o RandomUnderSampler\n",
    "rus = RandomUnderSampler(random_state=42)\n",
    "# Aplicando para X e y\n",
    "X_res, y_res = rus.fit_resample(X_train, y_train)\n",
    "# Visualizando graficamente\n",
    "y_res.value_counts().plot.pie(autopct='%.2f');\n",
    "# Supondo que y_res e y_test sejam os seus rótulos para o conjunto de treino e teste\n",
    "\n",
    "# Substituindo 0 e 1 por 'Não tem dificuldade' e 'Tem dificuldade'\n",
    "y_res = y_res.replace({0: 'Não tem dificuldade', 1: 'Tem dificuldade'})\n",
    "y_test = y_test.replace({0: 'Não tem dificuldade', 1: 'Tem dificuldade'})\n",
    "\n"
   ]
  },
  {
   "cell_type": "code",
   "execution_count": 14,
   "metadata": {},
   "outputs": [
    {
     "data": {
      "text/plain": [
       "DiffWalk\n",
       "Não tem dificuldade    24018\n",
       "Tem dificuldade        24018\n",
       "Name: count, dtype: int64"
      ]
     },
     "execution_count": 14,
     "metadata": {},
     "output_type": "execute_result"
    }
   ],
   "source": [
    "y_res.value_counts()"
   ]
  },
  {
   "cell_type": "markdown",
   "metadata": {},
   "source": [
    "# Knn\n"
   ]
  },
  {
   "cell_type": "markdown",
   "metadata": {},
   "source": [
    "## Knn treino "
   ]
  },
  {
   "cell_type": "code",
   "execution_count": 15,
   "metadata": {},
   "outputs": [
    {
     "name": "stdout",
     "output_type": "stream",
     "text": [
      "Acurácia knn com dados de treino: 0.83\n",
      "Relatório de Classificação balanceado:\n",
      "                     precision    recall  f1-score   support\n",
      "\n",
      "Não tem dificuldade       0.81      0.88      0.84     24018\n",
      "    Tem dificuldade       0.86      0.79      0.83     24018\n",
      "\n",
      "           accuracy                           0.83     48036\n",
      "          macro avg       0.84      0.83      0.83     48036\n",
      "       weighted avg       0.84      0.83      0.83     48036\n",
      "\n"
     ]
    },
    {
     "data": {
      "image/png": "[encoded data removed]",
      "text/plain": [
       "<Figure size 640x480 with 2 Axes>"
      ]
     },
     "metadata": {},
     "output_type": "display_data"
    }
   ],
   "source": [
    "# Criando o modelo KNN\n",
    "knn_balanced_train = KNeighborsClassifier(n_neighbors=5)\n",
    "\n",
    "# Treinando o modelo\n",
    "knn_balanced_train.fit(X_res, y_res)\n",
    "\n",
    "# Fazendo previsões nos dados de teste\n",
    "y_pred2_train = knn_balanced_train.predict(X_res)\n",
    "\n",
    "# Avaliando o desempenho do modelo\n",
    "accuracy_train = accuracy_score(y_res, y_pred2_train)\n",
    "report_train = classification_report(y_res, y_pred2_train)\n",
    "conf_matrix = confusion_matrix(y_res, y_pred2_train)\n",
    "\n",
    "print(f\"Acurácia knn com dados de treino: {accuracy_train:.2f}\")\n",
    "print(\"Relatório de Classificação balanceado:\")\n",
    "print(report_train)\n",
    "sns.heatmap(conf_matrix, annot=True, fmt='d', cmap='Blues')\n",
    "plt.title('Matriz de Confusão')\n",
    "plt.xlabel('Classe Predita')\n",
    "plt.ylabel('Classe Verdadeira')\n",
    "plt.show()"
   ]
  },
  {
   "cell_type": "markdown",
   "metadata": {},
   "source": [
    "## Knn teste"
   ]
  },
  {
   "cell_type": "code",
   "execution_count": 16,
   "metadata": {},
   "outputs": [
    {
     "name": "stdout",
     "output_type": "stream",
     "text": [
      "Acurácia KNN no conjunto de teste: 0.81\n",
      "Relatório de Classificação no conjunto de teste:\n",
      "                     precision    recall  f1-score   support\n",
      "\n",
      "Não tem dificuldade       0.94      0.82      0.88     66281\n",
      "    Tem dificuldade       0.42      0.73      0.53     11759\n",
      "\n",
      "           accuracy                           0.81     78040\n",
      "          macro avg       0.68      0.78      0.71     78040\n",
      "       weighted avg       0.87      0.81      0.83     78040\n",
      "\n"
     ]
    },
    {
     "data": {
      "image/png": "[encoded data removed]",
      "text/plain": [
       "<Figure size 800x600 with 2 Axes>"
      ]
     },
     "metadata": {},
     "output_type": "display_data"
    }
   ],
   "source": [
    "\n",
    "# Criando o modelo KNN\n",
    "knn_balanced_test = KNeighborsClassifier(n_neighbors=5, weights='distance')\n",
    "\n",
    "# Treinando o modelo no conjunto de treino balanceado\n",
    "knn_balanced_test.fit(X_res, y_res)\n",
    "\n",
    "# Fazendo previsões nos dados de teste não balanceados\n",
    "y_pred2_test = knn_balanced_test.predict(X_test)\n",
    "\n",
    "# Avaliando o desempenho do modelo no conjunto de teste não balanceado\n",
    "accuracy_test = accuracy_score(y_test, y_pred2_test)\n",
    "report_test = classification_report(y_test, y_pred2_test)\n",
    "conf_matrix = confusion_matrix(y_test, y_pred2_test)\n",
    "\n",
    "print(f\"Acurácia KNN no conjunto de teste: {accuracy_test:.2f}\")\n",
    "print(\"Relatório de Classificação no conjunto de teste:\")\n",
    "print(report_test)\n",
    "\n",
    "# Visualizando a matriz de confusão\n",
    "plt.figure(figsize=(8, 6))\n",
    "sns.heatmap(conf_matrix, annot=True, fmt='d', cmap='Blues')\n",
    "plt.title('Matriz de Confusão')\n",
    "plt.xlabel('Classe Predita')\n",
    "plt.ylabel('Classe Verdadeira')\n",
    "plt.show()\n"
   ]
  },
  {
   "cell_type": "markdown",
   "metadata": {},
   "source": [
    "## Knn com gridSearch"
   ]
  },
  {
   "cell_type": "code",
   "execution_count": 17,
   "metadata": {},
   "outputs": [
    {
     "name": "stdout",
     "output_type": "stream",
     "text": [
      "Melhores parâmetros encontrados: {'metric': 'euclidean', 'n_neighbors': 11, 'weights': 'uniform'}\n",
      "F1 Score no conjunto de teste: 0.7231606027953701\n",
      "Resultados para KNN com gridsearch:\n",
      "                     precision    recall  f1-score   support\n",
      "\n",
      "Não tem dificuldade       0.95      0.83      0.89     66281\n",
      "    Tem dificuldade       0.44      0.75      0.56     11759\n",
      "\n",
      "           accuracy                           0.82     78040\n",
      "          macro avg       0.70      0.79      0.72     78040\n",
      "       weighted avg       0.87      0.82      0.84     78040\n",
      "\n"
     ]
    },
    {
     "data": {
      "image/png": "[encoded data removed]",
      "text/plain": [
       "<Figure size 800x600 with 2 Axes>"
      ]
     },
     "metadata": {},
     "output_type": "display_data"
    }
   ],
   "source": [
    "\n",
    "\n",
    "# Definir o modelo KNN\n",
    "knn = KNeighborsClassifier()\n",
    "\n",
    "# Definir os parâmetros que queremos otimizar\n",
    "param_grid = {\n",
    "    'n_neighbors': [3, 5, 7, 9, 11],\n",
    "    'weights': ['uniform', 'distance'],\n",
    "    'metric': ['euclidean', 'manhattan', 'minkowski']\n",
    "}\n",
    "\n",
    "# Implementar o GridSearchCV com f1_score como métrica\n",
    "grid_search = GridSearchCV(estimator=knn, param_grid=param_grid, cv=5, scoring='f1_macro')\n",
    "\n",
    "# Treinar o modelo com o GridSearch\n",
    "grid_search.fit(X_res, y_res)\n",
    "\n",
    "# Melhor combinação de hiperparâmetros\n",
    "print(\"Melhores parâmetros encontrados:\", grid_search.best_params_)\n",
    "\n",
    "# Fazer previsões no conjunto de teste\n",
    "y_pred = grid_search.predict(X_test)\n",
    "\n",
    "# Avaliar o modelo com f1_score\n",
    "f1 = f1_score(y_test, y_pred, average='macro')\n",
    "print(\"F1 Score no conjunto de teste:\", f1)\n",
    "\n",
    "print(\"Resultados para KNN com gridsearch:\")\n",
    "# Exibir um relatório detalhado\n",
    "print(classification_report(y_test, y_pred))\n",
    "\n",
    "conf_matrix = confusion_matrix(y_test, y_pred)\n",
    "plt.figure(figsize=(8, 6))\n",
    "sns.heatmap(conf_matrix, annot=True, fmt='d', cmap='Blues')\n",
    "plt.title('Matriz de Confusão')\n",
    "plt.xlabel('Classe Predita')\n",
    "plt.ylabel('Classe Verdadeira')\n",
    "plt.show()\n"
   ]
  },
  {
   "cell_type": "markdown",
   "metadata": {},
   "source": [
    "# Random forest"
   ]
  },
  {
   "cell_type": "markdown",
   "metadata": {},
   "source": [
    "## Random forest com peso ajustado para aumentar o recall da 1.0"
   ]
  },
  {
   "cell_type": "code",
   "execution_count": 18,
   "metadata": {},
   "outputs": [
    {
     "name": "stdout",
     "output_type": "stream",
     "text": [
      "Acurácia nos dados de treino Random forest com peso maior para o que tem dificuldade: 0.81\n",
      "                     precision    recall  f1-score   support\n",
      "\n",
      "Não tem dificuldade       0.81      0.81      0.81     24018\n",
      "    Tem dificuldade       0.81      0.81      0.81     24018\n",
      "\n",
      "           accuracy                           0.81     48036\n",
      "          macro avg       0.81      0.81      0.81     48036\n",
      "       weighted avg       0.81      0.81      0.81     48036\n",
      "\n",
      "Acurácia nos dados de teste Random forest com peso maior para o que tem dificuldade: 0.81\n",
      "                     precision    recall  f1-score   support\n",
      "\n",
      "Não tem dificuldade       0.96      0.81      0.88     66281\n",
      "    Tem dificuldade       0.43      0.80      0.56     11759\n",
      "\n",
      "           accuracy                           0.81     78040\n",
      "          macro avg       0.70      0.81      0.72     78040\n",
      "       weighted avg       0.88      0.81      0.83     78040\n",
      "\n"
     ]
    }
   ],
   "source": [
    "from sklearn.ensemble import RandomForestClassifier\n",
    "from sklearn.model_selection import StratifiedKFold, cross_val_predict\n",
    "from sklearn.metrics import classification_report, accuracy_score\n",
    "\n",
    "# Ajustando o modelo Random Forest com pesos de classe modificados\n",
    "rf = RandomForestClassifier(\n",
    "    random_state=42,\n",
    "    n_estimators=300,           # Mantendo o número de árvores\n",
    "    max_depth=9,                # Mantendo a profundidade\n",
    "    min_samples_split=25,       # Aumentando o número mínimo de amostras para split\n",
    "    min_samples_leaf=15,        # Aumentando o número mínimo de amostras em folha\n",
    "    max_features='sqrt',        # Limitando o número de features usadas\n",
    "    class_weight={'Não tem dificuldade': 1, 'Tem dificuldade': 1.010} # Reduzindo o peso da classe minoritária\n",
    ")\n",
    "\n",
    "# Criando o objeto de validação cruzada com 5 folds estratificados\n",
    "cv = StratifiedKFold(n_splits=5, shuffle=True, random_state=42)\n",
    "\n",
    "# Usando cross_val_predict para obter previsões para cada fold (dados de treino)\n",
    "y_pred_train = cross_val_predict(rf, X_res, y_res, cv=cv)\n",
    "\n",
    "# Treinando o modelo nos dados de treino completos\n",
    "rf.fit(X_res, y_res)\n",
    "\n",
    "# Fazendo previsões nos dados de teste\n",
    "y_pred_test = rf.predict(X_test)\n",
    "\n",
    "# Calculando e exibindo o relatório de classificação para dados de treino\n",
    "accuracy_train = accuracy_score(y_res, y_pred_train)\n",
    "report_train = classification_report(y_res, y_pred_train)\n",
    "\n",
    "# Calculando e exibindo o relatório de classificação para dados de teste\n",
    "accuracy_test = accuracy_score(y_test, y_pred_test)\n",
    "report_test = classification_report(y_test, y_pred_test)\n",
    "\n",
    "print(f\"Acurácia nos dados de treino Random forest com peso maior para o que tem dificuldade: {accuracy_train:.2f}\")\n",
    "print(report_train)\n",
    "\n",
    "print(f\"Acurácia nos dados de teste Random forest com peso maior para o que tem dificuldade: {accuracy_test:.2f}\")\n",
    "print(report_test)\n"
   ]
  },
  {
   "cell_type": "markdown",
   "metadata": {},
   "source": [
    "# LGBM "
   ]
  },
  {
   "cell_type": "code",
   "execution_count": 19,
   "metadata": {},
   "outputs": [
    {
     "name": "stdout",
     "output_type": "stream",
     "text": [
      "[LightGBM] [Info] Number of positive: 19214, number of negative: 19214\n",
      "[LightGBM] [Info] Auto-choosing row-wise multi-threading, the overhead of testing was 0.003766 seconds.\n",
      "You can set `force_row_wise=true` to remove the overhead.\n",
      "And if memory is not enough, you can set `force_col_wise=true`.\n",
      "[LightGBM] [Info] Total Bins 137\n",
      "[LightGBM] [Info] Number of data points in the train set: 38428, number of used features: 15\n",
      "[LightGBM] [Info] [binary:BoostFromScore]: pavg=0.502488 -> initscore=0.009950\n",
      "[LightGBM] [Info] Start training from score 0.009950\n",
      "[LightGBM] [Info] Number of positive: 19215, number of negative: 19214\n",
      "[LightGBM] [Info] Auto-choosing row-wise multi-threading, the overhead of testing was 0.001477 seconds.\n",
      "You can set `force_row_wise=true` to remove the overhead.\n",
      "And if memory is not enough, you can set `force_col_wise=true`.\n",
      "[LightGBM] [Info] Total Bins 138\n",
      "[LightGBM] [Info] Number of data points in the train set: 38429, number of used features: 15\n",
      "[LightGBM] [Info] [binary:BoostFromScore]: pavg=0.502501 -> initscore=0.010002\n",
      "[LightGBM] [Info] Start training from score 0.010002\n",
      "[LightGBM] [Info] Number of positive: 19215, number of negative: 19214\n",
      "[LightGBM] [Info] Auto-choosing row-wise multi-threading, the overhead of testing was 0.001451 seconds.\n",
      "You can set `force_row_wise=true` to remove the overhead.\n",
      "And if memory is not enough, you can set `force_col_wise=true`.\n",
      "[LightGBM] [Info] Total Bins 138\n",
      "[LightGBM] [Info] Number of data points in the train set: 38429, number of used features: 15\n",
      "[LightGBM] [Info] [binary:BoostFromScore]: pavg=0.502501 -> initscore=0.010002\n",
      "[LightGBM] [Info] Start training from score 0.010002\n",
      "[LightGBM] [Info] Number of positive: 19214, number of negative: 19215\n",
      "[LightGBM] [Info] Auto-choosing row-wise multi-threading, the overhead of testing was 0.001298 seconds.\n",
      "You can set `force_row_wise=true` to remove the overhead.\n",
      "And if memory is not enough, you can set `force_col_wise=true`.\n",
      "[LightGBM] [Info] Total Bins 138\n",
      "[LightGBM] [Info] Number of data points in the train set: 38429, number of used features: 15\n",
      "[LightGBM] [Info] [binary:BoostFromScore]: pavg=0.502475 -> initscore=0.009898\n",
      "[LightGBM] [Info] Start training from score 0.009898\n",
      "[LightGBM] [Info] Number of positive: 19214, number of negative: 19215\n",
      "[LightGBM] [Info] Auto-choosing row-wise multi-threading, the overhead of testing was 0.002021 seconds.\n",
      "You can set `force_row_wise=true` to remove the overhead.\n",
      "And if memory is not enough, you can set `force_col_wise=true`.\n",
      "[LightGBM] [Info] Total Bins 138\n",
      "[LightGBM] [Info] Number of data points in the train set: 38429, number of used features: 15\n",
      "[LightGBM] [Info] [binary:BoostFromScore]: pavg=0.502475 -> initscore=0.009898\n",
      "[LightGBM] [Info] Start training from score 0.009898\n",
      "[LightGBM] [Info] Number of positive: 24018, number of negative: 24018\n",
      "[LightGBM] [Info] Auto-choosing row-wise multi-threading, the overhead of testing was 0.001603 seconds.\n",
      "You can set `force_row_wise=true` to remove the overhead.\n",
      "And if memory is not enough, you can set `force_col_wise=true`.\n",
      "[LightGBM] [Info] Total Bins 138\n",
      "[LightGBM] [Info] Number of data points in the train set: 48036, number of used features: 15\n",
      "[LightGBM] [Info] [binary:BoostFromScore]: pavg=0.502488 -> initscore=0.009950\n",
      "[LightGBM] [Info] Start training from score 0.009950\n",
      "Acurácia nos dados de treino: 0.81\n",
      "                     precision    recall  f1-score   support\n",
      "\n",
      "Não tem dificuldade       0.82      0.80      0.81     24018\n",
      "    Tem dificuldade       0.81      0.82      0.81     24018\n",
      "\n",
      "           accuracy                           0.81     48036\n",
      "          macro avg       0.81      0.81      0.81     48036\n",
      "       weighted avg       0.81      0.81      0.81     48036\n",
      "\n",
      "Acurácia nos dados de teste: 0.81\n",
      "                     precision    recall  f1-score   support\n",
      "\n",
      "Não tem dificuldade       0.96      0.80      0.88     66281\n",
      "    Tem dificuldade       0.43      0.82      0.56     11759\n",
      "\n",
      "           accuracy                           0.81     78040\n",
      "          macro avg       0.69      0.81      0.72     78040\n",
      "       weighted avg       0.88      0.81      0.83     78040\n",
      "\n"
     ]
    }
   ],
   "source": [
    "\n",
    "\n",
    "# Instanciando o modelo LightGBM com parâmetros iniciais\n",
    "lgb_model = lgb.LGBMClassifier(\n",
    "    random_state=42,\n",
    "    n_estimators=300,\n",
    "    max_depth=8,\n",
    "    learning_rate=0.1,\n",
    "    subsample=0.8,\n",
    "    colsample_bytree=0.8,\n",
    "    class_weight={'Não tem dificuldade': 1, 'Tem dificuldade': 1.010} # Ajustando o peso da classe minoritária\n",
    ")\n",
    "\n",
    "# Criando o objeto de validação cruzada com 5 folds estratificados\n",
    "cv = StratifiedKFold(n_splits=5, shuffle=True, random_state=42)\n",
    "\n",
    "# Usando cross_val_predict para obter previsões para cada fold (dados de treino)\n",
    "y_pred_train = cross_val_predict(lgb_model, X_res, y_res, cv=cv)\n",
    "\n",
    "# Treinando o modelo nos dados de treino completos\n",
    "lgb_model.fit(X_res, y_res)\n",
    "\n",
    "# Fazendo previsões nos dados de teste\n",
    "y_pred_test = lgb_model.predict(X_test)\n",
    "\n",
    "# Calculando e exibindo o relatório de classificação para dados de treino\n",
    "accuracy_train = accuracy_score(y_res, y_pred_train)\n",
    "report_train = classification_report(y_res, y_pred_train)\n",
    "\n",
    "# Calculando e exibindo o relatório de classificação para dados de teste\n",
    "accuracy_test = accuracy_score(y_test, y_pred_test)\n",
    "report_test = classification_report(y_test, y_pred_test)\n",
    "\n",
    "print(f\"Acurácia nos dados de treino: {accuracy_train:.2f}\")\n",
    "print(report_train)\n",
    "\n",
    "print(f\"Acurácia nos dados de teste: {accuracy_test:.2f}\")\n",
    "print(report_test)\n"
   ]
  },
  {
   "cell_type": "markdown",
   "metadata": {},
   "source": [
    "## LGBM utilizando gridserach"
   ]
  },
  {
   "cell_type": "code",
   "execution_count": 20,
   "metadata": {},
   "outputs": [
    {
     "name": "stdout",
     "output_type": "stream",
     "text": [
      "Fitting 3 folds for each of 2 candidates, totalling 6 fits\n",
      "[LightGBM] [Info] Number of positive: 16012, number of negative: 16012\n",
      "[LightGBM] [Info] Number of positive: 16012, number of negative: 16012\n",
      "[LightGBM] [Info] Auto-choosing row-wise multi-threading, the overhead of testing was 0.005075 seconds.\n",
      "You can set `force_row_wise=true` to remove the overhead.\n",
      "And if memory is not enough, you can set `force_col_wise=true`.\n",
      "[LightGBM] [Info] Total Bins 136\n",
      "[LightGBM] [Info] Number of data points in the train set: 32024, number of used features: 15\n",
      "[LightGBM] [Info] [binary:BoostFromScore]: pavg=0.500000 -> initscore=0.000000\n",
      "[LightGBM] [Info] Auto-choosing row-wise multi-threading, the overhead of testing was 0.004602 seconds.\n",
      "You can set `force_row_wise=true` to remove the overhead.\n",
      "And if memory is not enough, you can set `force_col_wise=true`.\n",
      "[LightGBM] [Info] Total Bins 138\n",
      "[LightGBM] [Info] Number of data points in the train set: 32024, number of used features: 15\n",
      "[LightGBM] [Info] [binary:BoostFromScore]: pavg=0.500000 -> initscore=0.000000\n",
      "[LightGBM] [Info] Number of positive: 16012, number of negative: 16012\n",
      "[LightGBM] [Info] Number of positive: 16012, number of negative: 16012\n",
      "[LightGBM] [Info] Auto-choosing row-wise multi-threading, the overhead of testing was 0.004495 seconds.\n",
      "You can set `force_row_wise=true` to remove the overhead.\n",
      "And if memory is not enough, you can set `force_col_wise=true`.\n",
      "[LightGBM] [Info] Total Bins 136\n",
      "[LightGBM] [Info] Number of data points in the train set: 32024, number of used features: 15\n",
      "[LightGBM] [Info] Auto-choosing row-wise multi-threading, the overhead of testing was 0.004252 seconds.\n",
      "You can set `force_row_wise=true` to remove the overhead.\n",
      "And if memory is not enough, you can set `force_col_wise=true`.\n",
      "[LightGBM] [Info] [binary:BoostFromScore]: pavg=0.500000 -> initscore=0.000000\n",
      "[LightGBM] [Info] Total Bins 138\n",
      "[LightGBM] [Info] Number of data points in the train set: 32024, number of used features: 15\n",
      "[LightGBM] [Info] [binary:BoostFromScore]: pavg=0.500000 -> initscore=0.000000\n",
      "[LightGBM] [Info] Number of positive: 16012, number of negative: 16012\n",
      "[LightGBM] [Info] Auto-choosing row-wise multi-threading, the overhead of testing was 0.004896 seconds.\n",
      "You can set `force_row_wise=true` to remove the overhead.\n",
      "And if memory is not enough, you can set `force_col_wise=true`.\n",
      "[LightGBM] [Info] Total Bins 138\n",
      "[LightGBM] [Info] Number of data points in the train set: 32024, number of used features: 15\n",
      "[LightGBM] [Info] [binary:BoostFromScore]: pavg=0.500000 -> initscore=0.000000\n",
      "[LightGBM] [Info] Number of positive: 16012, number of negative: 16012\n",
      "[LightGBM] [Info] Auto-choosing row-wise multi-threading, the overhead of testing was 0.002894 seconds.\n",
      "You can set `force_row_wise=true` to remove the overhead.\n",
      "And if memory is not enough, you can set `force_col_wise=true`.\n",
      "[LightGBM] [Info] Total Bins 138\n",
      "[LightGBM] [Info] Number of data points in the train set: 32024, number of used features: 15\n",
      "[LightGBM] [Info] [binary:BoostFromScore]: pavg=0.500000 -> initscore=0.000000\n"
     ]
    },
    {
     "name": "stderr",
     "output_type": "stream",
     "text": [
      "/Users/alanalins/pisi3/Diabetes-PISI3/.venv/lib/python3.11/site-packages/sklearn/model_selection/_validation.py:982: UserWarning: Scoring failed. The score on this train-test partition for these parameters will be set to nan. Details: \n",
      "Traceback (most recent call last):\n",
      "  File \"/Users/alanalins/pisi3/Diabetes-PISI3/.venv/lib/python3.11/site-packages/sklearn/model_selection/_validation.py\", line 971, in _score\n",
      "    scores = scorer(estimator, X_test, y_test, **score_params)\n",
      "             ^^^^^^^^^^^^^^^^^^^^^^^^^^^^^^^^^^^^^^^^^^^^^^^^^\n",
      "  File \"/Users/alanalins/pisi3/Diabetes-PISI3/.venv/lib/python3.11/site-packages/sklearn/metrics/_scorer.py\", line 279, in __call__\n",
      "    return self._score(partial(_cached_call, None), estimator, X, y_true, **_kwargs)\n",
      "           ^^^^^^^^^^^^^^^^^^^^^^^^^^^^^^^^^^^^^^^^^^^^^^^^^^^^^^^^^^^^^^^^^^^^^^^^^\n",
      "  File \"/Users/alanalins/pisi3/Diabetes-PISI3/.venv/lib/python3.11/site-packages/sklearn/metrics/_scorer.py\", line 371, in _score\n",
      "    y_pred = method_caller(\n",
      "             ^^^^^^^^^^^^^^\n",
      "  File \"/Users/alanalins/pisi3/Diabetes-PISI3/.venv/lib/python3.11/site-packages/sklearn/metrics/_scorer.py\", line 89, in _cached_call\n",
      "    result, _ = _get_response_values(\n",
      "                ^^^^^^^^^^^^^^^^^^^^^\n",
      "  File \"/Users/alanalins/pisi3/Diabetes-PISI3/.venv/lib/python3.11/site-packages/sklearn/utils/_response.py\", line 204, in _get_response_values\n",
      "    raise ValueError(\n",
      "ValueError: pos_label=1 is not a valid label: It should be one of ['Não tem dificuldade' 'Tem dificuldade']\n",
      "\n",
      "  warnings.warn(\n",
      "/Users/alanalins/pisi3/Diabetes-PISI3/.venv/lib/python3.11/site-packages/sklearn/model_selection/_validation.py:982: UserWarning: Scoring failed. The score on this train-test partition for these parameters will be set to nan. Details: \n",
      "Traceback (most recent call last):\n",
      "  File \"/Users/alanalins/pisi3/Diabetes-PISI3/.venv/lib/python3.11/site-packages/sklearn/model_selection/_validation.py\", line 971, in _score\n",
      "    scores = scorer(estimator, X_test, y_test, **score_params)\n",
      "             ^^^^^^^^^^^^^^^^^^^^^^^^^^^^^^^^^^^^^^^^^^^^^^^^^\n",
      "  File \"/Users/alanalins/pisi3/Diabetes-PISI3/.venv/lib/python3.11/site-packages/sklearn/metrics/_scorer.py\", line 279, in __call__\n",
      "    return self._score(partial(_cached_call, None), estimator, X, y_true, **_kwargs)\n",
      "           ^^^^^^^^^^^^^^^^^^^^^^^^^^^^^^^^^^^^^^^^^^^^^^^^^^^^^^^^^^^^^^^^^^^^^^^^^\n",
      "  File \"/Users/alanalins/pisi3/Diabetes-PISI3/.venv/lib/python3.11/site-packages/sklearn/metrics/_scorer.py\", line 371, in _score\n",
      "    y_pred = method_caller(\n",
      "             ^^^^^^^^^^^^^^\n",
      "  File \"/Users/alanalins/pisi3/Diabetes-PISI3/.venv/lib/python3.11/site-packages/sklearn/metrics/_scorer.py\", line 89, in _cached_call\n",
      "    result, _ = _get_response_values(\n",
      "                ^^^^^^^^^^^^^^^^^^^^^\n",
      "  File \"/Users/alanalins/pisi3/Diabetes-PISI3/.venv/lib/python3.11/site-packages/sklearn/utils/_response.py\", line 204, in _get_response_values\n",
      "    raise ValueError(\n",
      "ValueError: pos_label=1 is not a valid label: It should be one of ['Não tem dificuldade' 'Tem dificuldade']\n",
      "\n",
      "  warnings.warn(\n"
     ]
    },
    {
     "name": "stdout",
     "output_type": "stream",
     "text": [
      "[CV] END colsample_bytree=0.8, learning_rate=0.1, max_depth=10, n_estimators=300, scale_pos_weight=1.5, subsample=0.8; total time=   5.0s\n",
      "[CV] END colsample_bytree=0.8, learning_rate=0.1, max_depth=8, n_estimators=300, scale_pos_weight=1.5, subsample=0.8; total time=   5.1s\n"
     ]
    },
    {
     "name": "stderr",
     "output_type": "stream",
     "text": [
      "/Users/alanalins/pisi3/Diabetes-PISI3/.venv/lib/python3.11/site-packages/sklearn/model_selection/_validation.py:982: UserWarning: Scoring failed. The score on this train-test partition for these parameters will be set to nan. Details: \n",
      "Traceback (most recent call last):\n",
      "  File \"/Users/alanalins/pisi3/Diabetes-PISI3/.venv/lib/python3.11/site-packages/sklearn/model_selection/_validation.py\", line 971, in _score\n",
      "    scores = scorer(estimator, X_test, y_test, **score_params)\n",
      "             ^^^^^^^^^^^^^^^^^^^^^^^^^^^^^^^^^^^^^^^^^^^^^^^^^\n",
      "  File \"/Users/alanalins/pisi3/Diabetes-PISI3/.venv/lib/python3.11/site-packages/sklearn/metrics/_scorer.py\", line 279, in __call__\n",
      "    return self._score(partial(_cached_call, None), estimator, X, y_true, **_kwargs)\n",
      "           ^^^^^^^^^^^^^^^^^^^^^^^^^^^^^^^^^^^^^^^^^^^^^^^^^^^^^^^^^^^^^^^^^^^^^^^^^\n",
      "  File \"/Users/alanalins/pisi3/Diabetes-PISI3/.venv/lib/python3.11/site-packages/sklearn/metrics/_scorer.py\", line 371, in _score\n",
      "    y_pred = method_caller(\n",
      "             ^^^^^^^^^^^^^^\n",
      "  File \"/Users/alanalins/pisi3/Diabetes-PISI3/.venv/lib/python3.11/site-packages/sklearn/metrics/_scorer.py\", line 89, in _cached_call\n",
      "    result, _ = _get_response_values(\n",
      "                ^^^^^^^^^^^^^^^^^^^^^\n",
      "  File \"/Users/alanalins/pisi3/Diabetes-PISI3/.venv/lib/python3.11/site-packages/sklearn/utils/_response.py\", line 204, in _get_response_values\n",
      "    raise ValueError(\n",
      "ValueError: pos_label=1 is not a valid label: It should be one of ['Não tem dificuldade' 'Tem dificuldade']\n",
      "\n",
      "  warnings.warn(\n",
      "/Users/alanalins/pisi3/Diabetes-PISI3/.venv/lib/python3.11/site-packages/sklearn/model_selection/_validation.py:982: UserWarning: Scoring failed. The score on this train-test partition for these parameters will be set to nan. Details: \n",
      "Traceback (most recent call last):\n",
      "  File \"/Users/alanalins/pisi3/Diabetes-PISI3/.venv/lib/python3.11/site-packages/sklearn/model_selection/_validation.py\", line 971, in _score\n",
      "    scores = scorer(estimator, X_test, y_test, **score_params)\n",
      "             ^^^^^^^^^^^^^^^^^^^^^^^^^^^^^^^^^^^^^^^^^^^^^^^^^\n",
      "  File \"/Users/alanalins/pisi3/Diabetes-PISI3/.venv/lib/python3.11/site-packages/sklearn/metrics/_scorer.py\", line 279, in __call__\n",
      "    return self._score(partial(_cached_call, None), estimator, X, y_true, **_kwargs)\n",
      "           ^^^^^^^^^^^^^^^^^^^^^^^^^^^^^^^^^^^^^^^^^^^^^^^^^^^^^^^^^^^^^^^^^^^^^^^^^\n",
      "  File \"/Users/alanalins/pisi3/Diabetes-PISI3/.venv/lib/python3.11/site-packages/sklearn/metrics/_scorer.py\", line 371, in _score\n",
      "    y_pred = method_caller(\n",
      "             ^^^^^^^^^^^^^^\n",
      "  File \"/Users/alanalins/pisi3/Diabetes-PISI3/.venv/lib/python3.11/site-packages/sklearn/metrics/_scorer.py\", line 89, in _cached_call\n",
      "    result, _ = _get_response_values(\n",
      "                ^^^^^^^^^^^^^^^^^^^^^\n",
      "  File \"/Users/alanalins/pisi3/Diabetes-PISI3/.venv/lib/python3.11/site-packages/sklearn/utils/_response.py\", line 204, in _get_response_values\n",
      "    raise ValueError(\n",
      "ValueError: pos_label=1 is not a valid label: It should be one of ['Não tem dificuldade' 'Tem dificuldade']\n",
      "\n",
      "  warnings.warn(\n",
      "/Users/alanalins/pisi3/Diabetes-PISI3/.venv/lib/python3.11/site-packages/sklearn/model_selection/_validation.py:982: UserWarning: Scoring failed. The score on this train-test partition for these parameters will be set to nan. Details: \n",
      "Traceback (most recent call last):\n",
      "  File \"/Users/alanalins/pisi3/Diabetes-PISI3/.venv/lib/python3.11/site-packages/sklearn/model_selection/_validation.py\", line 971, in _score\n",
      "    scores = scorer(estimator, X_test, y_test, **score_params)\n",
      "             ^^^^^^^^^^^^^^^^^^^^^^^^^^^^^^^^^^^^^^^^^^^^^^^^^\n",
      "  File \"/Users/alanalins/pisi3/Diabetes-PISI3/.venv/lib/python3.11/site-packages/sklearn/metrics/_scorer.py\", line 279, in __call__\n",
      "    return self._score(partial(_cached_call, None), estimator, X, y_true, **_kwargs)\n",
      "           ^^^^^^^^^^^^^^^^^^^^^^^^^^^^^^^^^^^^^^^^^^^^^^^^^^^^^^^^^^^^^^^^^^^^^^^^^\n",
      "  File \"/Users/alanalins/pisi3/Diabetes-PISI3/.venv/lib/python3.11/site-packages/sklearn/metrics/_scorer.py\", line 371, in _score\n",
      "    y_pred = method_caller(\n",
      "             ^^^^^^^^^^^^^^\n",
      "  File \"/Users/alanalins/pisi3/Diabetes-PISI3/.venv/lib/python3.11/site-packages/sklearn/metrics/_scorer.py\", line 89, in _cached_call\n",
      "    result, _ = _get_response_values(\n",
      "                ^^^^^^^^^^^^^^^^^^^^^\n",
      "  File \"/Users/alanalins/pisi3/Diabetes-PISI3/.venv/lib/python3.11/site-packages/sklearn/utils/_response.py\", line 204, in _get_response_values\n",
      "    raise ValueError(\n",
      "ValueError: pos_label=1 is not a valid label: It should be one of ['Não tem dificuldade' 'Tem dificuldade']\n",
      "\n",
      "  warnings.warn(\n",
      "/Users/alanalins/pisi3/Diabetes-PISI3/.venv/lib/python3.11/site-packages/sklearn/model_selection/_validation.py:982: UserWarning: Scoring failed. The score on this train-test partition for these parameters will be set to nan. Details: \n",
      "Traceback (most recent call last):\n",
      "  File \"/Users/alanalins/pisi3/Diabetes-PISI3/.venv/lib/python3.11/site-packages/sklearn/model_selection/_validation.py\", line 971, in _score\n",
      "    scores = scorer(estimator, X_test, y_test, **score_params)\n",
      "             ^^^^^^^^^^^^^^^^^^^^^^^^^^^^^^^^^^^^^^^^^^^^^^^^^\n",
      "  File \"/Users/alanalins/pisi3/Diabetes-PISI3/.venv/lib/python3.11/site-packages/sklearn/metrics/_scorer.py\", line 279, in __call__\n",
      "    return self._score(partial(_cached_call, None), estimator, X, y_true, **_kwargs)\n",
      "           ^^^^^^^^^^^^^^^^^^^^^^^^^^^^^^^^^^^^^^^^^^^^^^^^^^^^^^^^^^^^^^^^^^^^^^^^^\n",
      "  File \"/Users/alanalins/pisi3/Diabetes-PISI3/.venv/lib/python3.11/site-packages/sklearn/metrics/_scorer.py\", line 371, in _score\n",
      "    y_pred = method_caller(\n",
      "             ^^^^^^^^^^^^^^\n",
      "  File \"/Users/alanalins/pisi3/Diabetes-PISI3/.venv/lib/python3.11/site-packages/sklearn/metrics/_scorer.py\", line 89, in _cached_call\n",
      "    result, _ = _get_response_values(\n",
      "                ^^^^^^^^^^^^^^^^^^^^^\n",
      "  File \"/Users/alanalins/pisi3/Diabetes-PISI3/.venv/lib/python3.11/site-packages/sklearn/utils/_response.py\", line 204, in _get_response_values\n",
      "    raise ValueError(\n",
      "ValueError: pos_label=1 is not a valid label: It should be one of ['Não tem dificuldade' 'Tem dificuldade']\n",
      "\n",
      "  warnings.warn(\n",
      "/Users/alanalins/pisi3/Diabetes-PISI3/.venv/lib/python3.11/site-packages/sklearn/model_selection/_search.py:1102: UserWarning: One or more of the test scores are non-finite: [nan nan]\n",
      "  warnings.warn(\n"
     ]
    },
    {
     "name": "stdout",
     "output_type": "stream",
     "text": [
      "[CV] END colsample_bytree=0.8, learning_rate=0.1, max_depth=8, n_estimators=300, scale_pos_weight=1.5, subsample=0.8; total time=   5.7s\n",
      "[CV] END colsample_bytree=0.8, learning_rate=0.1, max_depth=10, n_estimators=300, scale_pos_weight=1.5, subsample=0.8; total time=   5.7s\n",
      "[CV] END colsample_bytree=0.8, learning_rate=0.1, max_depth=8, n_estimators=300, scale_pos_weight=1.5, subsample=0.8; total time=   5.8s\n",
      "[CV] END colsample_bytree=0.8, learning_rate=0.1, max_depth=10, n_estimators=300, scale_pos_weight=1.5, subsample=0.8; total time=   5.8s\n",
      "[LightGBM] [Info] Number of positive: 24018, number of negative: 24018\n",
      "[LightGBM] [Info] Auto-choosing row-wise multi-threading, the overhead of testing was 0.002532 seconds.\n",
      "You can set `force_row_wise=true` to remove the overhead.\n",
      "And if memory is not enough, you can set `force_col_wise=true`.\n",
      "[LightGBM] [Info] Total Bins 138\n",
      "[LightGBM] [Info] Number of data points in the train set: 48036, number of used features: 15\n",
      "[LightGBM] [Info] [binary:BoostFromScore]: pavg=0.500000 -> initscore=0.000000\n",
      "Melhores parâmetros: {'colsample_bytree': 0.8, 'learning_rate': 0.1, 'max_depth': 8, 'n_estimators': 300, 'scale_pos_weight': 1.5, 'subsample': 0.8}\n",
      "Classification report LGBM\n",
      "                     precision    recall  f1-score   support\n",
      "\n",
      "Não tem dificuldade       0.97      0.75      0.84     66281\n",
      "    Tem dificuldade       0.38      0.87      0.53     11759\n",
      "\n",
      "           accuracy                           0.76     78040\n",
      "          macro avg       0.67      0.81      0.68     78040\n",
      "       weighted avg       0.88      0.76      0.80     78040\n",
      "\n"
     ]
    }
   ],
   "source": [
    "\n",
    "# Instanciando o modelo LightGBM com random_state fixo\n",
    "lgb_model = lgb.LGBMClassifier(random_state=42)\n",
    "\n",
    "# Definindo os parâmetros a serem testados no Grid Search (parâmetros reduzidos)\n",
    "param_grid = {\n",
    "    'n_estimators': [300],\n",
    "    'max_depth': [8, 10],\n",
    "    'learning_rate': [0.1],\n",
    "    'scale_pos_weight': [1.5],\n",
    "    'subsample': [0.8],\n",
    "    'colsample_bytree': [0.8]\n",
    "}\n",
    "\n",
    "# Configurando o Grid Search com validação cruzada\n",
    "grid_search = GridSearchCV(estimator=lgb_model, param_grid=param_grid, cv=3, scoring='f1', n_jobs=-1, verbose=2)\n",
    "\n",
    "# Ajustando o modelo aos dados de treino\n",
    "grid_search.fit(X_res, y_res)\n",
    "\n",
    "# Exibindo os melhores parâmetros encontrados\n",
    "print(f\"Melhores parâmetros: {grid_search.best_params_}\")\n",
    "\n",
    "# Avaliando o modelo nos dados de teste\n",
    "best_model = grid_search.best_estimator_\n",
    "y_pred_test = best_model.predict(X_test)\n",
    "print('Classification report LGBM')\n",
    "report_test = classification_report(y_test, y_pred_test)\n",
    "print(report_test)\n"
   ]
  },
  {
   "cell_type": "markdown",
   "metadata": {},
   "source": [
    "# SVM"
   ]
  },
  {
   "cell_type": "code",
   "execution_count": null,
   "metadata": {},
   "outputs": [],
   "source": [
    "\"\"\"\n",
    "from sklearn.metrics import precision_recall_curve\n",
    "from sklearn.svm import SVC\n",
    "svm_model = SVC(\n",
    "    kernel='rbf',\n",
    "    C=2.0,             # Aumentando o parâmetro de regularização para reduzir falsos negativos\n",
    "    gamma='scale',     # Mantendo gamma padrão\n",
    "    class_weight={'Não tem dificuldade': 1, 'Tem dificuldade': 2},  # Usando pesos para classes 0 e 1\n",
    "    probability=True,  # Habilitando probabilidades para ajuste do threshold\n",
    "    random_state=42\n",
    ")\n",
    "\n",
    "# Treinando o modelo nos dados de treino completos\n",
    "svm_model.fit(X_res, y_res)\n",
    "\n",
    "# Prevendo probabilidades em vez de rótulos binários\n",
    "y_proba_test = svm_model.predict_proba(X_test)[:, 1]\n",
    "\n",
    "# Ajustando o threshold para aumentar o recall e reduzir falsos negativos\n",
    "threshold = 0.4  # Pode ajustar esse valor para balancear precisão e recall\n",
    "y_pred_test = (y_proba_test >= threshold).astype(int)\n",
    "\n",
    "# Convertendo rótulos previstos de 0/1 para strings\n",
    "y_pred_test = pd.Series(y_pred_test).replace({0: 'Não tem dificuldade', 1: 'Tem dificuldade'})\n",
    "\n",
    "# Certificando-se de que y_test também está em formato textual\n",
    "y_test = y_test.replace({0: 'Não tem dificuldade', 1: 'Tem dificuldade'})\n",
    "\n",
    "# Calculando e exibindo o relatório de classificação para dados de teste\n",
    "accuracy_test = accuracy_score(y_test, y_pred_test)\n",
    "report_test = classification_report(y_test, y_pred_test)\n",
    "\n",
    "print(f\"Acurácia nos dados de teste SVM:  {accuracy_test:.2f}\")\n",
    "print(report_test)\n",
    "\"\"\""
   ]
  },
  {
   "cell_type": "markdown",
   "metadata": {},
   "source": [
    "# Naive bayes"
   ]
  },
  {
   "cell_type": "code",
   "execution_count": null,
   "metadata": {},
   "outputs": [
    {
     "name": "stdout",
     "output_type": "stream",
     "text": [
      "Acurácia (Naive Bayes): 0.81\n",
      "                     precision    recall  f1-score   support\n",
      "\n",
      "Não tem dificuldade       0.94      0.82      0.88     66281\n",
      "    Tem dificuldade       0.42      0.72      0.53     11759\n",
      "\n",
      "           accuracy                           0.81     78040\n",
      "          macro avg       0.68      0.77      0.70     78040\n",
      "       weighted avg       0.86      0.81      0.83     78040\n",
      "\n"
     ]
    }
   ],
   "source": [
    "\n",
    "\n",
    "# Testando um modelo Naive Bayes\n",
    "nb_balanced = GaussianNB()\n",
    "nb_balanced.fit(X_res, y_res)\n",
    "y_pred_nb_balanced = nb_balanced.predict(X_test)\n",
    "\n",
    "# Avaliando o desempenho\n",
    "accuracy_nb_balanced = accuracy_score(y_test, y_pred_nb_balanced)\n",
    "report_nb_balanced = classification_report(y_test, y_pred_nb_balanced)\n",
    "\n",
    "print(f\"Acurácia (Naive Bayes): {accuracy_nb_balanced:.2f}\")\n",
    "print(report_nb_balanced)\n"
   ]
  },
  {
   "cell_type": "markdown",
   "metadata": {},
   "source": [
    "Naive bayes com gridSearch"
   ]
  },
  {
   "cell_type": "code",
   "execution_count": null,
   "metadata": {},
   "outputs": [
    {
     "name": "stderr",
     "output_type": "stream",
     "text": [
      "[Parallel(n_jobs=-1)]: Using backend LokyBackend with 8 concurrent workers.\n",
      "[Parallel(n_jobs=-1)]: Done   2 out of   5 | elapsed:    0.2s remaining:    0.3s\n"
     ]
    },
    {
     "name": "stdout",
     "output_type": "stream",
     "text": [
      "[CV] END .................................................... total time=   0.1s\n",
      "[CV] END .................................................... total time=   0.1s\n",
      "[CV] END .................................................... total time=   0.1s\n",
      "[CV] END .................................................... total time=   0.1s\n",
      "[CV] END .................................................... total time=   0.0s\n"
     ]
    },
    {
     "name": "stderr",
     "output_type": "stream",
     "text": [
      "[Parallel(n_jobs=-1)]: Done   5 out of   5 | elapsed:    1.1s finished\n"
     ]
    },
    {
     "name": "stdout",
     "output_type": "stream",
     "text": [
      "Acurácia média da validação cruzada  Naive bayes: 0.78\n",
      "Desvio padrão da validação cruzada: 0.00\n",
      "Acurácia nos dados de teste: 0.81\n",
      "                     precision    recall  f1-score   support\n",
      "\n",
      "Não tem dificuldade       0.94      0.82      0.88     66281\n",
      "    Tem dificuldade       0.42      0.72      0.53     11759\n",
      "\n",
      "           accuracy                           0.81     78040\n",
      "          macro avg       0.68      0.77      0.70     78040\n",
      "       weighted avg       0.86      0.81      0.83     78040\n",
      "\n"
     ]
    }
   ],
   "source": [
    "\n",
    "\n",
    "# Instanciando o modelo Gaussian Naive Bayes\n",
    "nb_model = GaussianNB()\n",
    "\n",
    "# Realizando a validação cruzada com 5 folds\n",
    "cv_scores = cross_val_score(nb_model, X_res, y_res, cv=5, scoring='accuracy', n_jobs=-1, verbose=2)\n",
    "\n",
    "# Treinando o modelo nos dados de treino completos após a validação cruzada\n",
    "nb_model.fit(X_res, y_res)\n",
    "\n",
    "# Fazendo previsões nos dados de teste\n",
    "y_pred_nb_balanced = nb_model.predict(X_test)\n",
    "\n",
    "# Avaliando o desempenho nos dados de teste\n",
    "accuracy_nb_balanced = accuracy_score(y_test, y_pred_nb_balanced)\n",
    "report_nb_balanced = classification_report(y_test, y_pred_nb_balanced)\n",
    "\n",
    "# Exibindo os resultados da validação cruzada e do teste\n",
    "print(f\"Acurácia média da validação cruzada  Naive bayes: {cv_scores.mean():.2f}\")\n",
    "print(f\"Desvio padrão da validação cruzada: {cv_scores.std():.2f}\")\n",
    "print(f\"Acurácia nos dados de teste: {accuracy_nb_balanced:.2f}\")\n",
    "print(report_nb_balanced)\n"
   ]
  }
 ],
 "metadata": {
  "kernelspec": {
   "display_name": ".venv",
   "language": "python",
   "name": "python3"
  },
  "language_info": {
   "codemirror_mode": {
    "name": "ipython",
    "version": 3
   },
   "file_extension": ".py",
   "mimetype": "text/x-python",
   "name": "python",
   "nbconvert_exporter": "python",
   "pygments_lexer": "ipython3",
   "version": "3.11.4"
  }
 },
 "nbformat": 4,
 "nbformat_minor": 2
}
